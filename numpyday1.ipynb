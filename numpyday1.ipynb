{
  "nbformat": 4,
  "nbformat_minor": 0,
  "metadata": {
    "colab": {
      "provenance": [],
      "include_colab_link": true
    },
    "kernelspec": {
      "name": "python3",
      "display_name": "Python 3"
    },
    "language_info": {
      "name": "python"
    }
  },
  "cells": [
    {
      "cell_type": "markdown",
      "metadata": {
        "id": "view-in-github",
        "colab_type": "text"
      },
      "source": [
        "<a href=\"https://colab.research.google.com/github/Kedarsinh01/python/blob/main/numpyday1.ipynb\" target=\"_parent\"><img src=\"https://colab.research.google.com/assets/colab-badge.svg\" alt=\"Open In Colab\"/></a>"
      ]
    },
    {
      "cell_type": "markdown",
      "source": [
        "#LIST:-\n",
        "        1. MORE MEMORY\n",
        "        2. BOTH HETROGENIOUS AND HOMOGENIOUS ELEMENTS\n",
        "        3. SLOWER THAN ARRAY\n",
        "#ARRAY:-\n",
        "        1. LESS MEMORY\n",
        "        2. ONLY HOMOGENIOUS ELEMENTS\n",
        "        3. FASTER THAN LIST\n",
        "\n",
        "\n",
        "#IF WE PASS HETRO ELEMENTS IN ARRAY IT WILL CONVERT THE HOMO ELEMENTS INTO HETRO DATATYPE BASED ON ITS BYTE CODE"
      ],
      "metadata": {
        "id": "R8xWHoHOYtjl"
      }
    },
    {
      "cell_type": "code",
      "execution_count": null,
      "metadata": {
        "id": "jLiGabJVVHm0"
      },
      "outputs": [],
      "source": [
        "import numpy as np"
      ]
    },
    {
      "cell_type": "code",
      "source": [
        "a=[1,2,3,4,5]\n",
        "x=np.array(a)\n",
        "print(type(a))\n",
        "print(type(x))"
      ],
      "metadata": {
        "colab": {
          "base_uri": "https://localhost:8080/"
        },
        "id": "nf7U_8KOaXnH",
        "outputId": "d3a64373-4ca9-4145-c2f5-9ad13a81aefa"
      },
      "execution_count": null,
      "outputs": [
        {
          "output_type": "stream",
          "name": "stdout",
          "text": [
            "<class 'list'>\n",
            "<class 'numpy.ndarray'>\n"
          ]
        }
      ]
    },
    {
      "cell_type": "code",
      "source": [
        "x.dtype"
      ],
      "metadata": {
        "colab": {
          "base_uri": "https://localhost:8080/"
        },
        "id": "Qr-UBBYWashw",
        "outputId": "64fe52d3-20a3-45fe-c5fe-d1a12b5d5618"
      },
      "execution_count": null,
      "outputs": [
        {
          "output_type": "execute_result",
          "data": {
            "text/plain": [
              "dtype('int64')"
            ]
          },
          "metadata": {},
          "execution_count": 6
        }
      ]
    },
    {
      "cell_type": "code",
      "source": [
        "y=[1,2,3,4,5,6,'hiii']\n",
        "z=np.array(y)\n",
        "z.dtype                 #ALL INT WILL CONVERT INTO STRING DTYPE\n",
        "print(z)"
      ],
      "metadata": {
        "colab": {
          "base_uri": "https://localhost:8080/"
        },
        "id": "c8E4HTxZa7GN",
        "outputId": "0ca30f75-0915-4308-9aa3-244df690d8f9"
      },
      "execution_count": null,
      "outputs": [
        {
          "output_type": "stream",
          "name": "stdout",
          "text": [
            "['1' '2' '3' '4' '5' '6' 'hiii']\n"
          ]
        }
      ]
    },
    {
      "cell_type": "code",
      "source": [
        "z.ndim"
      ],
      "metadata": {
        "colab": {
          "base_uri": "https://localhost:8080/"
        },
        "id": "ey7RM9uAbWhY",
        "outputId": "120da7cb-e4db-4a3f-d9a3-e2956a7a5f2a"
      },
      "execution_count": null,
      "outputs": [
        {
          "output_type": "execute_result",
          "data": {
            "text/plain": [
              "1"
            ]
          },
          "metadata": {},
          "execution_count": 12
        }
      ]
    },
    {
      "cell_type": "code",
      "source": [
        "#ZERO DIMENSION ARRAY\n",
        "x=np.array(45)\n",
        "print(x)\n",
        "print(x.ndim)"
      ],
      "metadata": {
        "colab": {
          "base_uri": "https://localhost:8080/"
        },
        "id": "XbkoX-v1c9hE",
        "outputId": "09559f01-c98d-4bf9-a0c8-a12fbe575b9b"
      },
      "execution_count": null,
      "outputs": [
        {
          "output_type": "stream",
          "name": "stdout",
          "text": [
            "45\n",
            "0\n"
          ]
        }
      ]
    },
    {
      "cell_type": "code",
      "source": [
        "#ONE DIMENSION ARRAY\n",
        "x=np.array([1,2,3,4,5])\n",
        "print(x)\n",
        "print(x.ndim)"
      ],
      "metadata": {
        "colab": {
          "base_uri": "https://localhost:8080/"
        },
        "id": "OpLzNG7udfZ6",
        "outputId": "5ebdd736-eea3-4c03-fa1c-837594e8d640"
      },
      "execution_count": null,
      "outputs": [
        {
          "output_type": "stream",
          "name": "stdout",
          "text": [
            "[1 2 3 4 5]\n",
            "1\n"
          ]
        }
      ]
    },
    {
      "cell_type": "code",
      "source": [
        "#TWO DIMENSION ARRAY\n",
        "x=np.array([[1,2,3],[4,5,6]])\n",
        "print(x)\n",
        "print(x.ndim)"
      ],
      "metadata": {
        "colab": {
          "base_uri": "https://localhost:8080/"
        },
        "id": "4F8Lf3N4dtdZ",
        "outputId": "e30327a1-a0b4-41d9-d388-f095c4edb0fa"
      },
      "execution_count": null,
      "outputs": [
        {
          "output_type": "stream",
          "name": "stdout",
          "text": [
            "[[1 2 3]\n",
            " [4 5 6]]\n",
            "2\n"
          ]
        }
      ]
    },
    {
      "cell_type": "code",
      "source": [
        "#SHAPE OF ARRAY\n",
        "x=np.array([[1,2,3],[4,5,6]])\n",
        "print(x.shape)"
      ],
      "metadata": {
        "colab": {
          "base_uri": "https://localhost:8080/"
        },
        "id": "AMLbq_QPdyku",
        "outputId": "da5e2b29-71b3-445f-ba6d-881d53a09b7e"
      },
      "execution_count": null,
      "outputs": [
        {
          "output_type": "stream",
          "name": "stdout",
          "text": [
            "(2, 3)\n"
          ]
        }
      ]
    },
    {
      "cell_type": "code",
      "source": [
        "#SHAPE OF ARRAY\n",
        "a=np.array([1,2,3,4,50])\n",
        "print(a.shape)"
      ],
      "metadata": {
        "colab": {
          "base_uri": "https://localhost:8080/"
        },
        "id": "zHgb74R0ePic",
        "outputId": "1ef48b2d-8360-4c47-c431-39dc3f0ae1b7"
      },
      "execution_count": null,
      "outputs": [
        {
          "output_type": "stream",
          "name": "stdout",
          "text": [
            "(5,)\n"
          ]
        }
      ]
    },
    {
      "cell_type": "markdown",
      "source": [
        "#TYPE:\n",
        "      1.it is inbuilt class formate (function)\n",
        "      2.shows what data is present\n",
        "      3.\n",
        "#DTYPE:\n",
        "      1.it is property\n",
        "      2.show datatype present inside\n",
        "      3."
      ],
      "metadata": {
        "id": "7JFdLHbZfFru"
      }
    },
    {
      "cell_type": "code",
      "source": [
        "#RESHAPE OF ARRAY\n",
        "x=np.array([1,2,3,4,5,6])\n",
        "print(x.shape)\n",
        "a=x.reshape(2,3)         #method\n",
        "print(a)\n",
        "print(a.shape)"
      ],
      "metadata": {
        "colab": {
          "base_uri": "https://localhost:8080/"
        },
        "id": "jp3tjTbkeoFk",
        "outputId": "f584dc92-1724-4d30-f7d1-ad3cc523df10"
      },
      "execution_count": null,
      "outputs": [
        {
          "output_type": "stream",
          "name": "stdout",
          "text": [
            "(6,)\n",
            "[[1 2 3]\n",
            " [4 5 6]]\n",
            "(2, 3)\n"
          ]
        }
      ]
    },
    {
      "cell_type": "code",
      "source": [
        "#ARANGE IN ARRAY    #TO PRINT THE SEQUENCE OF ELEMENTS\n",
        "x=np.arange(1,20,2.5)\n",
        "print(x)"
      ],
      "metadata": {
        "colab": {
          "base_uri": "https://localhost:8080/"
        },
        "id": "7zKcMhmvf8aC",
        "outputId": "7f590dcb-c9b1-4b87-bf85-0eef5a2060c4"
      },
      "execution_count": null,
      "outputs": [
        {
          "output_type": "stream",
          "name": "stdout",
          "text": [
            "[ 1.   3.5  6.   8.5 11.  13.5 16.  18.5]\n"
          ]
        }
      ]
    },
    {
      "cell_type": "code",
      "source": [
        "#LINSPACE IN ARRAY\n",
        "x=np.linspace(1,20,10,retstep=True)             #(RETSTEP=TRUE):- IT CALCULATES THE DIFFERENCE BETWEEN THE NUMBERS\n",
        "print(x)                                        #FORMULA TO CALCULATE LINESPACE:- END.NO - START.NO/NUM-1"
      ],
      "metadata": {
        "colab": {
          "base_uri": "https://localhost:8080/"
        },
        "id": "ebZEY78Qhi9G",
        "outputId": "41729374-9039-4da9-be3b-1202768bdf30"
      },
      "execution_count": null,
      "outputs": [
        {
          "output_type": "stream",
          "name": "stdout",
          "text": [
            "(array([ 1.        ,  3.11111111,  5.22222222,  7.33333333,  9.44444444,\n",
            "       11.55555556, 13.66666667, 15.77777778, 17.88888889, 20.        ]), 2.111111111111111)\n"
          ]
        }
      ]
    },
    {
      "cell_type": "code",
      "source": [
        "#RANDINT IN ARRAY\n",
        "x=np.random.randint(1,100,3)             #\n",
        "print(x)\n"
      ],
      "metadata": {
        "colab": {
          "base_uri": "https://localhost:8080/"
        },
        "id": "xp9fFQ3GioX3",
        "outputId": "e8749efc-b448-4af0-80c2-42d617ea4263"
      },
      "execution_count": null,
      "outputs": [
        {
          "output_type": "stream",
          "name": "stdout",
          "text": [
            "[98 83 84]\n"
          ]
        }
      ]
    },
    {
      "cell_type": "code",
      "source": [
        "#RANDN IN ARRAY\n",
        "x=np.random.randn(1,2,3)\n",
        "print(x)"
      ],
      "metadata": {
        "colab": {
          "base_uri": "https://localhost:8080/"
        },
        "id": "ZH1i-0yLlVnv",
        "outputId": "2ce4bf78-e8a8-40c5-bcc4-be19136b0574"
      },
      "execution_count": null,
      "outputs": [
        {
          "output_type": "stream",
          "name": "stdout",
          "text": [
            "[[[ 0.59141795  1.02930832 -0.58670426]\n",
            "  [ 0.52687525 -1.8086207   0.43214718]]]\n"
          ]
        }
      ]
    },
    {
      "cell_type": "code",
      "source": [
        "#RAND IN ARRAY\n",
        "x=np.random.rand(2)\n",
        "print(x)"
      ],
      "metadata": {
        "colab": {
          "base_uri": "https://localhost:8080/"
        },
        "id": "rUdNEJtRmJ_Y",
        "outputId": "18435551-55d8-4587-9755-976d8141181f"
      },
      "execution_count": null,
      "outputs": [
        {
          "output_type": "stream",
          "name": "stdout",
          "text": [
            "[0.10420501 0.89579901]\n"
          ]
        }
      ]
    },
    {
      "cell_type": "code",
      "source": [
        "#CHOICE IN ARRAY\n",
        "x=[1,2,3,'True','False',2+3j]\n",
        "x=np.random.choice(x)\n",
        "print(x)"
      ],
      "metadata": {
        "colab": {
          "base_uri": "https://localhost:8080/"
        },
        "id": "ApKYKuPemp6f",
        "outputId": "e4496d2d-cc13-40af-eea0-493d930ddb8c"
      },
      "execution_count": null,
      "outputs": [
        {
          "output_type": "stream",
          "name": "stdout",
          "text": [
            "2\n"
          ]
        }
      ]
    },
    {
      "cell_type": "code",
      "source": [
        "#SHUFFLE IN ARRAY\n",
        "x=[1,2,3,'True','False',2+3j]\n",
        "np.random.shuffle(x)\n",
        "print(x)"
      ],
      "metadata": {
        "colab": {
          "base_uri": "https://localhost:8080/"
        },
        "id": "SeuVnZvrnD0Q",
        "outputId": "221f5863-e0ef-4a04-b431-7fbe90101925"
      },
      "execution_count": null,
      "outputs": [
        {
          "output_type": "stream",
          "name": "stdout",
          "text": [
            "[3, 1, 2, (2+3j), 'True', 'False']\n"
          ]
        }
      ]
    },
    {
      "cell_type": "code",
      "source": [
        "#CONVERT SINGLE DIMENSION INTO 33 DIMENSION\n",
        "x=np.array([1,2,3,4],ndmin=32)     #NDMIN:- MINIMUM DIMENSION OF ARRAY IT CONVERTS UPTO 32\n",
        "print(x)"
      ],
      "metadata": {
        "colab": {
          "base_uri": "https://localhost:8080/"
        },
        "id": "eNK-RdNTnN4q",
        "outputId": "04d0bc1b-ec4d-4c80-b413-2a73c401371b"
      },
      "execution_count": null,
      "outputs": [
        {
          "output_type": "stream",
          "name": "stdout",
          "text": [
            "[[[[[[[[[[[[[[[[[[[[[[[[[[[[[[[[1 2 3 4]]]]]]]]]]]]]]]]]]]]]]]]]]]]]]]]\n"
          ]
        }
      ]
    },
    {
      "cell_type": "markdown",
      "source": [
        "#ADDING ELEMENTS IN ARRAY:\n",
        "1.APPEND()\n",
        "\n",
        "2.INSERT()\n",
        "\n",
        "#DELETE ELEMENTS IN ARRAY:\n",
        "1.DELETE()"
      ],
      "metadata": {
        "id": "anNJWAChig4T"
      }
    },
    {
      "cell_type": "code",
      "source": [
        "a=np.array([1,2,3,4,5,6])\n",
        "print(a)"
      ],
      "metadata": {
        "id": "gqfe_n4gouUx",
        "colab": {
          "base_uri": "https://localhost:8080/"
        },
        "outputId": "8ea7ff7e-7795-485c-e02e-2b0cd0f943e7"
      },
      "execution_count": null,
      "outputs": [
        {
          "output_type": "stream",
          "name": "stdout",
          "text": [
            "[1 2 3 4 5 6]\n"
          ]
        }
      ]
    },
    {
      "cell_type": "code",
      "source": [
        "#ADD ELEMENT BY:- APPEND()\n",
        "b=np.append(a,[7,8,9])\n",
        "print(b)"
      ],
      "metadata": {
        "colab": {
          "base_uri": "https://localhost:8080/"
        },
        "id": "NuDTUKdAjcCV",
        "outputId": "e654bdc6-a41f-4deb-e7b7-7a593b809858"
      },
      "execution_count": null,
      "outputs": [
        {
          "output_type": "stream",
          "name": "stdout",
          "text": [
            "[1 2 3 4 5 6 7 8 9]\n"
          ]
        }
      ]
    },
    {
      "cell_type": "code",
      "source": [
        "b=np.array([[1,2,3,4],[5,6,7,8]])\n",
        "print(b)"
      ],
      "metadata": {
        "colab": {
          "base_uri": "https://localhost:8080/"
        },
        "id": "HYbRrg10jhi-",
        "outputId": "c4dc6060-7cbf-49ec-8230-77a13a042c0d"
      },
      "execution_count": null,
      "outputs": [
        {
          "output_type": "stream",
          "name": "stdout",
          "text": [
            "[[1 2 3 4]\n",
            " [5 6 7 8]]\n"
          ]
        }
      ]
    },
    {
      "cell_type": "code",
      "source": [
        "#ADDING SINGLE DIMENSION ARRAY IN MULTI-DIMENSION ARRAY:-\n",
        "c=np.append(b,[[9,10,11,12]])   #CONVERT MULTI-DIMENSION INTO SINGLE DIMENSION\n",
        "print(c)"
      ],
      "metadata": {
        "colab": {
          "base_uri": "https://localhost:8080/"
        },
        "id": "d336sOnHj7WS",
        "outputId": "86977b42-6e0c-49aa-fd58-60054d123cce"
      },
      "execution_count": null,
      "outputs": [
        {
          "output_type": "stream",
          "name": "stdout",
          "text": [
            "[ 1  2  3  4  5  6  7  8  9 10 11 12]\n"
          ]
        }
      ]
    },
    {
      "cell_type": "code",
      "source": [
        "c=np.array([1,2,3,4,5])\n",
        "print(c)"
      ],
      "metadata": {
        "colab": {
          "base_uri": "https://localhost:8080/"
        },
        "id": "HRpN2nGFkYht",
        "outputId": "1f1e8eee-fba7-4534-c937-4254ed29e405"
      },
      "execution_count": null,
      "outputs": [
        {
          "output_type": "stream",
          "name": "stdout",
          "text": [
            "[1 2 3 4 5]\n"
          ]
        }
      ]
    },
    {
      "cell_type": "code",
      "source": [
        "#INSERT ELEMENT IN ARRAY\n",
        "d=np.insert(c,2,30)        #INSERT ELEMENTS AT PERTICULAR POSITION AND SHIFTING PREVIOUS ELEMENT TO NEXT POSITION\n",
        "print(d)"
      ],
      "metadata": {
        "colab": {
          "base_uri": "https://localhost:8080/"
        },
        "id": "yuAunbZbkn58",
        "outputId": "620676bf-028b-4bd6-c7ce-90a5d47ac5c6"
      },
      "execution_count": null,
      "outputs": [
        {
          "output_type": "stream",
          "name": "stdout",
          "text": [
            "[ 1  2 30  3  4  5]\n"
          ]
        }
      ]
    },
    {
      "cell_type": "code",
      "source": [
        "#INSERT SINGLE ELEMENT IN BETWEEN TWO POSITION:\n",
        "e=np.insert(c,[2,4],[30])             #[2,4]:- POSITION\n",
        "print(e)"
      ],
      "metadata": {
        "colab": {
          "base_uri": "https://localhost:8080/"
        },
        "id": "ZSX19_rLkvNZ",
        "outputId": "9720506e-d2a1-4918-e68d-19a674fb63f7"
      },
      "execution_count": null,
      "outputs": [
        {
          "output_type": "stream",
          "name": "stdout",
          "text": [
            "[ 1  2 30  3  4 30  5]\n"
          ]
        }
      ]
    },
    {
      "cell_type": "code",
      "source": [
        "#DELETE ELEMENT FROM ARRAY:\n",
        "f=np.delete(c,2)        #(C,2):- 2 IS POSITION OF THE ELEMENT\n",
        "print(f)\n",
        "print(c)"
      ],
      "metadata": {
        "colab": {
          "base_uri": "https://localhost:8080/"
        },
        "id": "BcTImJAeluPu",
        "outputId": "f74a438e-ff4b-47d0-c7b1-36683f2e27b1"
      },
      "execution_count": null,
      "outputs": [
        {
          "output_type": "stream",
          "name": "stdout",
          "text": [
            "[1 2 4 5]\n",
            "[1 2 3 4 5]\n"
          ]
        }
      ]
    },
    {
      "cell_type": "code",
      "source": [
        "#FETCH THE ELEMENT POSITON IN ARRAY:\n",
        "n=np.array([10,11,12,13,14,15,13])\n",
        "print(np.where(n==13))              #USING 'WHERE' CLAUSE TO FILTER THE CONDITION AND DISPLAY THE ELEMENT PRESENT IN THE ARRAY"
      ],
      "metadata": {
        "colab": {
          "base_uri": "https://localhost:8080/"
        },
        "id": "rxO4wVMHmTtM",
        "outputId": "54d5c01c-8d18-4352-c8f4-60b10f124d43"
      },
      "execution_count": null,
      "outputs": [
        {
          "output_type": "stream",
          "name": "stdout",
          "text": [
            "(array([3, 6]),)\n"
          ]
        }
      ]
    },
    {
      "cell_type": "code",
      "source": [
        "m=np.where(n==13)\n",
        "print(m)"
      ],
      "metadata": {
        "colab": {
          "base_uri": "https://localhost:8080/"
        },
        "id": "VTIaoflMnOMJ",
        "outputId": "497e218f-8dab-4a1a-9347-ba18ec1f5825"
      },
      "execution_count": null,
      "outputs": [
        {
          "output_type": "stream",
          "name": "stdout",
          "text": [
            "(array([3, 6]),)\n"
          ]
        }
      ]
    },
    {
      "cell_type": "code",
      "source": [
        "m=np.where(n==100)      #IF ELEMENT IS NOT PERSENT IN THE ARRAY IT WILL DISPLAY EMPTY LIST\n",
        "print(m)"
      ],
      "metadata": {
        "colab": {
          "base_uri": "https://localhost:8080/"
        },
        "id": "kn9qj_W6n1sD",
        "outputId": "3e703496-1ce4-4466-d42e-f4c905981a2c"
      },
      "execution_count": null,
      "outputs": [
        {
          "output_type": "stream",
          "name": "stdout",
          "text": [
            "(array([], dtype=int64),)\n"
          ]
        }
      ]
    },
    {
      "cell_type": "code",
      "source": [
        "#SPLIT THE ELEMENT IN ARRAY:\n",
        "a=np.array([10,11,12,13,14,70,80,90,100])\n",
        "print(a)"
      ],
      "metadata": {
        "colab": {
          "base_uri": "https://localhost:8080/"
        },
        "id": "hV_blUnQn_PO",
        "outputId": "fcca2fb3-2afb-4937-a103-fe25e5fa12d4"
      },
      "execution_count": null,
      "outputs": [
        {
          "output_type": "stream",
          "name": "stdout",
          "text": [
            "[ 10  11  12  13  14  70  80  90 100]\n"
          ]
        }
      ]
    },
    {
      "cell_type": "code",
      "source": [
        "#SPLIT ARRAY IN NO. OF PARTS:\n",
        "b=np.array_split(a,2)\n",
        "print(b)"
      ],
      "metadata": {
        "colab": {
          "base_uri": "https://localhost:8080/"
        },
        "id": "K6P_6ac3oYcL",
        "outputId": "3c650604-12fd-4e82-b16e-798e5faa6dc3"
      },
      "execution_count": null,
      "outputs": [
        {
          "output_type": "stream",
          "name": "stdout",
          "text": [
            "[array([10, 11, 12, 13, 14]), array([ 70,  80,  90, 100])]\n"
          ]
        }
      ]
    },
    {
      "cell_type": "code",
      "source": [
        "#SPLIT ARRAY IN NO. OF PARTS:\n",
        "b=np.array_split(a,10)   #IF THE ARRAY IS NOT HAVING ELEMENTS IT WILL DISPLAY EMPTY LIST\n",
        "print(b)"
      ],
      "metadata": {
        "colab": {
          "base_uri": "https://localhost:8080/"
        },
        "id": "H7o7lfvWoirp",
        "outputId": "b0610056-6464-4c85-a547-1f063b709805"
      },
      "execution_count": null,
      "outputs": [
        {
          "output_type": "stream",
          "name": "stdout",
          "text": [
            "[array([10]), array([11]), array([12]), array([13]), array([14]), array([70]), array([80]), array([90]), array([100]), array([], dtype=int64)]\n"
          ]
        }
      ]
    },
    {
      "cell_type": "code",
      "source": [
        "#CHANGE ARRAY DATATYPE:INT,FLOAT,COMPLEX,BOOL\n",
        "a=np.asarray([10,11,12,13,14,15],dtype=float)\n",
        "print(a)"
      ],
      "metadata": {
        "colab": {
          "base_uri": "https://localhost:8080/"
        },
        "id": "9bAOui3Jo1m4",
        "outputId": "8dfbb078-4a19-4ea1-aaf7-414d3585f224"
      },
      "execution_count": null,
      "outputs": [
        {
          "output_type": "stream",
          "name": "stdout",
          "text": [
            "[10. 11. 12. 13. 14. 15.]\n"
          ]
        }
      ]
    },
    {
      "cell_type": "code",
      "source": [
        "#FLATER IN ARRAY:\n",
        "x=np.array([[[1,2,3,4,5],[6,7,8,9,10],[11,12,13,14,15]]])\n",
        "print(x)"
      ],
      "metadata": {
        "colab": {
          "base_uri": "https://localhost:8080/"
        },
        "id": "SUmgCFtnpZ98",
        "outputId": "5a6d26ac-e5a2-40b3-ccc1-950e9ea2a192"
      },
      "execution_count": null,
      "outputs": [
        {
          "output_type": "stream",
          "name": "stdout",
          "text": [
            "[[[ 1  2  3  4  5]\n",
            "  [ 6  7  8  9 10]\n",
            "  [11 12 13 14 15]]]\n"
          ]
        }
      ]
    },
    {
      "cell_type": "code",
      "source": [
        "y=x.flatten()   #CONVERT MULTI-DIMENSION INTO SINGLE DIMENSION FORMATE\n",
        "print(y)"
      ],
      "metadata": {
        "colab": {
          "base_uri": "https://localhost:8080/"
        },
        "id": "qR2qzgUXquxS",
        "outputId": "bf5fd6bc-a73e-4f29-c72d-21e15ef8d8e5"
      },
      "execution_count": null,
      "outputs": [
        {
          "output_type": "stream",
          "name": "stdout",
          "text": [
            "[ 1  2  3  4  5  6  7  8  9 10 11 12 13 14 15]\n"
          ]
        }
      ]
    },
    {
      "cell_type": "code",
      "source": [
        "y=x.flatten(order='F')   #ORDER:- IT IS USED TO ARRANGEE THE ARRAY ELEMENT IN ROW('C')/COLUMN('F')\n",
        "print(y)"
      ],
      "metadata": {
        "colab": {
          "base_uri": "https://localhost:8080/"
        },
        "id": "Gu8Qx-Ujq5Kp",
        "outputId": "fa84315b-56bf-4db0-e748-470deccca769"
      },
      "execution_count": null,
      "outputs": [
        {
          "output_type": "stream",
          "name": "stdout",
          "text": [
            "[ 1  6 11  2  7 12  3  8 13  4  9 14  5 10 15]\n"
          ]
        }
      ]
    },
    {
      "cell_type": "code",
      "source": [
        "#PRINT UNIQUE ELEMENTS IN ARRAY:\n",
        "d=np.array([1,0,2,0,3,4,0,5,9,6,7,8,9,3,3])\n",
        "y=np.unique(d)\n",
        "print(d)\n",
        "print(y)\n"
      ],
      "metadata": {
        "colab": {
          "base_uri": "https://localhost:8080/"
        },
        "id": "2H5dbaC_rN7a",
        "outputId": "d1be83ef-19d9-4e0a-a860-2b1d0e2e9524"
      },
      "execution_count": null,
      "outputs": [
        {
          "output_type": "stream",
          "name": "stdout",
          "text": [
            "[1 0 2 0 3 4 0 5 9 6 7 8 9 3 3]\n",
            "[0 1 2 3 4 5 6 7 8 9]\n"
          ]
        }
      ]
    },
    {
      "cell_type": "code",
      "source": [
        "d=np.array([1,0,2,0,3,4,0,5,9,6,7,8,9,3,3])\n",
        "y=np.unique(d,return_index=True,return_counts=True)\n",
        "#return_index=True:- PRINTS THE ELEMENT WITH POSITON\n",
        "#return_counts=True:- PRINTS NO. OF ELEMENT REPETED\n",
        "print(y)"
      ],
      "metadata": {
        "colab": {
          "base_uri": "https://localhost:8080/"
        },
        "id": "m3H_ObEAsTFA",
        "outputId": "2f77c778-ede5-4225-b793-43b39b5d04b2"
      },
      "execution_count": null,
      "outputs": [
        {
          "output_type": "stream",
          "name": "stdout",
          "text": [
            "(array([0, 1, 2, 3, 4, 5, 6, 7, 8, 9]), array([ 1,  0,  2,  4,  5,  7,  9, 10, 11,  8]), array([3, 1, 1, 3, 1, 1, 1, 1, 1, 2]))\n"
          ]
        }
      ]
    },
    {
      "cell_type": "markdown",
      "source": [
        "#MATRIX FORMATE\n",
        "1.ZEROS()\n",
        "\n",
        "2.ONES()\n",
        "\n",
        "3.EYE()/IDENTITY()\n",
        "\n",
        "4.FULL()"
      ],
      "metadata": {
        "id": "Gs6fMz-VttcQ"
      }
    },
    {
      "cell_type": "code",
      "source": [
        "#ZERO MATRIX:\n",
        "a=np.zeros((2,3))\n",
        "print(a)"
      ],
      "metadata": {
        "colab": {
          "base_uri": "https://localhost:8080/"
        },
        "id": "WCtCtWqosmUc",
        "outputId": "15ea1507-3a14-4e97-b32b-3b8017736732"
      },
      "execution_count": null,
      "outputs": [
        {
          "output_type": "stream",
          "name": "stdout",
          "text": [
            "[[0. 0. 0.]\n",
            " [0. 0. 0.]]\n"
          ]
        }
      ]
    },
    {
      "cell_type": "code",
      "source": [
        "#ONCE MATRIX:\n",
        "a=np.ones((2,3))\n",
        "print(a)"
      ],
      "metadata": {
        "colab": {
          "base_uri": "https://localhost:8080/"
        },
        "id": "PRmENtuYuGXc",
        "outputId": "edde38bb-a184-4d99-888a-0ea837bf7673"
      },
      "execution_count": null,
      "outputs": [
        {
          "output_type": "stream",
          "name": "stdout",
          "text": [
            "[[1. 1. 1.]\n",
            " [1. 1. 1.]]\n"
          ]
        }
      ]
    },
    {
      "cell_type": "code",
      "source": [
        "#EYE/IDENTITY MATRIX:\n",
        "a=np.eye(4,4)\n",
        "print(a)"
      ],
      "metadata": {
        "colab": {
          "base_uri": "https://localhost:8080/"
        },
        "id": "7pInWtu-uY4M",
        "outputId": "4bc4333d-499d-4f84-fdb3-c4e9487bc349"
      },
      "execution_count": null,
      "outputs": [
        {
          "output_type": "stream",
          "name": "stdout",
          "text": [
            "[[1. 0. 0. 0.]\n",
            " [0. 1. 0. 0.]\n",
            " [0. 0. 1. 0.]\n",
            " [0. 0. 0. 1.]]\n"
          ]
        }
      ]
    },
    {
      "cell_type": "code",
      "source": [
        "#FULL MATRIX:\n",
        "a=np.full((2,3),'a')     #'a':-IT IS ELEMENT THAT IS DISPLAY IN THE MATRIX FORMATE\n",
        "print(a)\n"
      ],
      "metadata": {
        "colab": {
          "base_uri": "https://localhost:8080/"
        },
        "id": "fVXfXkefukJl",
        "outputId": "d8cdbb1b-c625-4f4f-e83c-4aa2acb6521a"
      },
      "execution_count": null,
      "outputs": [
        {
          "output_type": "stream",
          "name": "stdout",
          "text": [
            "[['a' 'a' 'a']\n",
            " ['a' 'a' 'a']]\n"
          ]
        }
      ]
    },
    {
      "cell_type": "code",
      "source": [],
      "metadata": {
        "id": "MUOjSBdauwZn"
      },
      "execution_count": null,
      "outputs": []
    }
  ]
}
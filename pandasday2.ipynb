{
  "nbformat": 4,
  "nbformat_minor": 0,
  "metadata": {
    "colab": {
      "provenance": [],
      "authorship_tag": "ABX9TyOWLGjfmMbIcHhHxMeckxtL",
      "include_colab_link": true
    },
    "kernelspec": {
      "name": "python3",
      "display_name": "Python 3"
    },
    "language_info": {
      "name": "python"
    }
  },
  "cells": [
    {
      "cell_type": "markdown",
      "metadata": {
        "id": "view-in-github",
        "colab_type": "text"
      },
      "source": [
        "<a href=\"https://colab.research.google.com/github/Kedarsinh01/python/blob/main/pandasday2.ipynb\" target=\"_parent\"><img src=\"https://colab.research.google.com/assets/colab-badge.svg\" alt=\"Open In Colab\"/></a>"
      ]
    },
    {
      "cell_type": "markdown",
      "source": [],
      "metadata": {
        "id": "1-5d3_rlFN3Y"
      }
    },
    {
      "cell_type": "markdown",
      "source": [
        "# **DataFrame DAY 2**"
      ],
      "metadata": {
        "id": "SULNPIZvFQqp"
      }
    },
    {
      "cell_type": "code",
      "source": [
        "# make a dataframe wiht ten rows and ten column\n",
        "import pandas as pd\n",
        "d={'a':1,'b':2,'c':3,'d':4,'e':5,'f':6,'g':7,'h':8,'i':9,'j':10}\n",
        "# f=pd.DataFrame(d) #ValueError: If using all scalar values, you must pass an index\n",
        "f=pd.DataFrame(d,index=['a','b','c','d','e','f','g','h','i','j'])\n",
        "\n",
        "print(f)"
      ],
      "metadata": {
        "colab": {
          "base_uri": "https://localhost:8080/"
        },
        "id": "oonp3o0mFa47",
        "outputId": "e671d9e0-ae25-4802-87fb-8fc84f335b7d",
        "collapsed": true
      },
      "execution_count": null,
      "outputs": [
        {
          "output_type": "stream",
          "name": "stdout",
          "text": [
            "   a  b  c  d  e  f  g  h  i   j\n",
            "a  1  2  3  4  5  6  7  8  9  10\n",
            "b  1  2  3  4  5  6  7  8  9  10\n",
            "c  1  2  3  4  5  6  7  8  9  10\n",
            "d  1  2  3  4  5  6  7  8  9  10\n",
            "e  1  2  3  4  5  6  7  8  9  10\n",
            "f  1  2  3  4  5  6  7  8  9  10\n",
            "g  1  2  3  4  5  6  7  8  9  10\n",
            "h  1  2  3  4  5  6  7  8  9  10\n",
            "i  1  2  3  4  5  6  7  8  9  10\n",
            "j  1  2  3  4  5  6  7  8  9  10\n"
          ]
        }
      ]
    },
    {
      "cell_type": "markdown",
      "source": [
        "# Attributes (DataFrame)"
      ],
      "metadata": {
        "id": "8XszUkYuZhTR"
      }
    },
    {
      "cell_type": "code",
      "source": [
        "import pandas as pd\n",
        "d={'a':1,'b':2,'c':3,'d':4,'e':5,'f':6,'g':7,'h':8,'i':9,'j':10}\n",
        "# f=pd.DataFrame(d)                  #ValueError: If using all scalar values, you must pass an index\n",
        "f=pd.DataFrame(d,index=['a','b','c','d','e','f','g','h','i','j'])\n",
        "# print(f.sample(n=5))               #it gives random values from the dataframe and display rows\n",
        "# print(f.sample())\n",
        "# print(f.info())\n",
        "# print(f.info(memory_usage='deep')) #it shows the actual memory size\n",
        "# print(f.shape)                     #it gives the number of rows and columns\n",
        "# print(f.size)                      #it gives the number of elements in the dataframe\n",
        "# print(f.ndim)                      #it gives the number of dimensions in the dataframe\n",
        "# print(f.memory_usage)\n",
        "# print(f.index)\n",
        "# print(f.columns)\n",
        "# print(f.dtypes)\n",
        "# print(f.values)\n",
        "# print(f.describe())                  #it will give the statistics/mathematical calculation of numerical element\n",
        "# print(f)"
      ],
      "metadata": {
        "id": "KU_2vtOSVguX",
        "colab": {
          "base_uri": "https://localhost:8080/"
        },
        "outputId": "e12cb19d-3a1f-45fe-a9b0-ebcf069ace60",
        "collapsed": true
      },
      "execution_count": 15,
      "outputs": [
        {
          "output_type": "stream",
          "name": "stdout",
          "text": [
            "<bound method DataFrame.memory_usage of    a  b  c  d  e  f  g  h  i   j\n",
            "a  1  2  3  4  5  6  7  8  9  10\n",
            "b  1  2  3  4  5  6  7  8  9  10\n",
            "c  1  2  3  4  5  6  7  8  9  10\n",
            "d  1  2  3  4  5  6  7  8  9  10\n",
            "e  1  2  3  4  5  6  7  8  9  10\n",
            "f  1  2  3  4  5  6  7  8  9  10\n",
            "g  1  2  3  4  5  6  7  8  9  10\n",
            "h  1  2  3  4  5  6  7  8  9  10\n",
            "i  1  2  3  4  5  6  7  8  9  10\n",
            "j  1  2  3  4  5  6  7  8  9  10>\n"
          ]
        }
      ]
    },
    {
      "cell_type": "markdown",
      "source": [
        "# **Loc(stop index included)**"
      ],
      "metadata": {
        "id": "3r8Pos-eesu0"
      }
    },
    {
      "cell_type": "code",
      "source": [
        "import pandas as pd\n",
        "d={'a':1,'b':2,'c':3,'d':4,'e':5,'f':6,'g':7,'h':8,'i':9,'j':10}\n",
        "# f=pd.DataFrame(d)                  #ValueError: If using all scalar values, you must pass an index\n",
        "f=pd.DataFrame(d,index=[11,22,33,44,55,66,77,88,99,111])\n",
        "# print(f)\n",
        "# print(f.loc)\n",
        "# print(f.loc['a'])\n",
        "# print(f.loc[11,['d']])\n",
        "# print(f.loc[11:44:2])               # when we use loc with slicing end index is also included\n",
        "# print(f.loc[11:55,'e'])              #to fetch the particular column\n",
        "# print(f.loc[11:55:2,'e'])\n",
        "# print(f.loc[11:55:2,'a':'e'])         #to print the particular no. of index upto particular no of column\n",
        "# print(f.loc[11:55:2,['a','e']])        #only print the particular column upto particular index\n"
      ],
      "metadata": {
        "collapsed": true,
        "id": "AC1xmn-Deqcb"
      },
      "execution_count": 36,
      "outputs": []
    }
  ]
}
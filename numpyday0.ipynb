{
  "nbformat": 4,
  "nbformat_minor": 0,
  "metadata": {
    "colab": {
      "provenance": [],
      "authorship_tag": "ABX9TyN7sMJUaB1xkPZ/GufUdC7e",
      "include_colab_link": true
    },
    "kernelspec": {
      "name": "python3",
      "display_name": "Python 3"
    },
    "language_info": {
      "name": "python"
    }
  },
  "cells": [
    {
      "cell_type": "markdown",
      "metadata": {
        "id": "view-in-github",
        "colab_type": "text"
      },
      "source": [
        "<a href=\"https://colab.research.google.com/github/Kedarsinh01/python/blob/main/numpyday0.ipynb\" target=\"_parent\"><img src=\"https://colab.research.google.com/assets/colab-badge.svg\" alt=\"Open In Colab\"/></a>"
      ]
    },
    {
      "cell_type": "code",
      "execution_count": null,
      "metadata": {
        "id": "c7DWquMIkdjU"
      },
      "outputs": [],
      "source": [
        "#arithmetic operation on array numpy"
      ]
    },
    {
      "cell_type": "code",
      "source": [
        "import numpy as np\n",
        "a=np.array([2,3,4,5,6,7,8,9])\n",
        "b=np.array([1,2,3,4,5,6,7,8])\n",
        "print(np.add(a,b))    #[ 3  5  7  9 11 13 15 17]\n",
        "print(np.subtract(a,b)) #[1 1 1 1 1 1 1 1]\n",
        "print(np.multiply(a,b))#[ 2  6 12 20 30 42 56 72]\n",
        "print(np.divide(a,b)) #[2.         1.5        1.33333333 1.25       1.2        1.16666667   1.14285714 1.125     ]\n",
        "print(np.mod(a,b))\n",
        "print(np.power(a,b))"
      ],
      "metadata": {
        "colab": {
          "base_uri": "https://localhost:8080/"
        },
        "id": "lm5Pn5cc-N2L",
        "outputId": "368dcd27-26ee-4970-9834-9cdf8aa4282a"
      },
      "execution_count": null,
      "outputs": [
        {
          "output_type": "stream",
          "name": "stdout",
          "text": [
            "[ 3  5  7  9 11 13 15 17]\n",
            "[1 1 1 1 1 1 1 1]\n",
            "[ 2  6 12 20 30 42 56 72]\n",
            "[2.         1.5        1.33333333 1.25       1.2        1.16666667\n",
            " 1.14285714 1.125     ]\n",
            "[0 1 1 1 1 1 1 1]\n",
            "[       2        9       64      625     7776   117649  2097152 43046721]\n"
          ]
        }
      ]
    },
    {
      "cell_type": "code",
      "source": [
        "import numpy as np\n",
        "a=np.array([2,3,4,5,6,7,8,9])\n",
        "b=np.array([1,2,3,4,5,6,7,8])\n",
        "c=np.array([12,34,465,67,87,12,21,12])\n",
        "print(np.add(a,b,c))"
      ],
      "metadata": {
        "colab": {
          "base_uri": "https://localhost:8080/"
        },
        "id": "sQlq1jtL_K74",
        "outputId": "afa0ab77-7ace-4d5c-8dd8-f0f6496feabf"
      },
      "execution_count": null,
      "outputs": [
        {
          "output_type": "stream",
          "name": "stdout",
          "text": [
            "[ 3  5  7  9 11 13 15 17]\n"
          ]
        }
      ]
    },
    {
      "cell_type": "code",
      "source": [
        "#scalar operation\n",
        "# import numpy as np\n",
        "a=np.array([2,3,4,5,6,7,8,9])\n",
        "print(a+5)\n",
        "print(a-5)\n",
        "print(a*5)\n",
        "print(a/5)\n",
        "print(a%5)\n",
        "print(a**5)\n"
      ],
      "metadata": {
        "colab": {
          "base_uri": "https://localhost:8080/"
        },
        "id": "bQCKE8LBAD2p",
        "outputId": "069a931a-ef27-48a5-c622-e23cfe4176c1"
      },
      "execution_count": null,
      "outputs": [
        {
          "output_type": "stream",
          "name": "stdout",
          "text": [
            "[ 7  8  9 10 11 12 13 14]\n",
            "[-3 -2 -1  0  1  2  3  4]\n",
            "[10 15 20 25 30 35 40 45]\n",
            "[0.4 0.6 0.8 1.  1.2 1.4 1.6 1.8]\n",
            "[2 3 4 0 1 2 3 4]\n",
            "[   32   243  1024  3125  7776 16807 32768 59049]\n"
          ]
        }
      ]
    },
    {
      "cell_type": "code",
      "source": [
        "a=np.array([2,3,4,5,6,7,8,9])\n",
        "b=np.array([1,2,3,4,5,6,4,5])\n",
        "print(np.array_equal(a,b)) #False\n",
        "print(np.array_equal(a,a)) #True"
      ],
      "metadata": {
        "colab": {
          "base_uri": "https://localhost:8080/"
        },
        "id": "HLAyO5CJAoG_",
        "outputId": "45727a8f-2498-4376-e9d7-82c6337a6540"
      },
      "execution_count": null,
      "outputs": [
        {
          "output_type": "stream",
          "name": "stdout",
          "text": [
            "False\n",
            "True\n"
          ]
        }
      ]
    },
    {
      "cell_type": "code",
      "source": [
        "a=np.array([2,3,4,5,6,7,8,9])\n",
        "b=np.array([2,3,4,5,6,7,8,9])\n",
        "# print(np.sin(a,b)) error cannot cast\n",
        "# print(np.cos(a,b))   error cannot cast\n",
        "# print(np.tan(a,b))   error cannot cast\n",
        "print(np.sin(a))\n",
        "print(np.cos(a))\n",
        "print(np.tan(a))"
      ],
      "metadata": {
        "colab": {
          "base_uri": "https://localhost:8080/"
        },
        "id": "IZ7FOvdmBSb_",
        "outputId": "2d5df25e-4502-47cf-d637-7ef755ba6a1e"
      },
      "execution_count": null,
      "outputs": [
        {
          "output_type": "stream",
          "name": "stdout",
          "text": [
            "[ 0.90929743  0.14112001 -0.7568025  -0.95892427 -0.2794155   0.6569866\n",
            "  0.98935825  0.41211849]\n",
            "[-0.41614684 -0.9899925  -0.65364362  0.28366219  0.96017029  0.75390225\n",
            " -0.14550003 -0.91113026]\n",
            "[-2.18503986 -0.14254654  1.15782128 -3.38051501 -0.29100619  0.87144798\n",
            " -6.79971146 -0.45231566]\n"
          ]
        }
      ]
    }
  ]
}
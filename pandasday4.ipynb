{
  "nbformat": 4,
  "nbformat_minor": 0,
  "metadata": {
    "colab": {
      "provenance": [],
      "authorship_tag": "ABX9TyPqJfSdYgwCCywdaSUcoTnN",
      "include_colab_link": true
    },
    "kernelspec": {
      "name": "python3",
      "display_name": "Python 3"
    },
    "language_info": {
      "name": "python"
    }
  },
  "cells": [
    {
      "cell_type": "markdown",
      "metadata": {
        "id": "view-in-github",
        "colab_type": "text"
      },
      "source": [
        "<a href=\"https://colab.research.google.com/github/Kedarsinh01/python/blob/main/pandasday4.ipynb\" target=\"_parent\"><img src=\"https://colab.research.google.com/assets/colab-badge.svg\" alt=\"Open In Colab\"/></a>"
      ]
    },
    {
      "cell_type": "markdown",
      "source": [
        "## INSERT()"
      ],
      "metadata": {
        "id": "symXukyZtdqH"
      }
    },
    {
      "cell_type": "code",
      "source": [
        "import pandas as pd\n",
        "employee_data = {\n",
        "    \"EID\": [101, 102, 103, 104, 105],\n",
        "    \"Name\": [\"Alice\", \"Bob\", \"Charlie\", \"David\", \"Emma\"],\n",
        "    \"Dept\": [\"HR\", \"IT\", \"Finance\", \"Marketing\", \"Sales\"],\n",
        "    \"Sal\": [50000, 60000, 55000, 52000, 58000],\n",
        "    \"Joining_Date\": [\"2020-06-15\", \"2019-08-01\", \"2021-01-10\", \"2018-07-20\", \"2022-03-05\"],\n",
        "    \"Experience (Years)\": [3, 4, 2, 5, 1]\n",
        "}\n",
        "data=pd.DataFrame(employee_data)\n",
        "# print(data)\n",
        "data['Bonus']=[1000,2000,3000,4000,5000] #add the column to the DataFrame\n",
        "data.insert(2,'Age',[23,24,22,21,20])  #insert new column with values size should be same as previous column\n",
        "print(data)\n"
      ],
      "metadata": {
        "colab": {
          "base_uri": "https://localhost:8080/"
        },
        "id": "ti0NhAd5tmrY",
        "outputId": "97e0f166-4457-4dde-a549-0e5808728d46"
      },
      "execution_count": 51,
      "outputs": [
        {
          "output_type": "stream",
          "name": "stdout",
          "text": [
            "   EID     Name  Age       Dept    Sal Joining_Date  Experience (Years)  Bonus\n",
            "0  101    Alice   23         HR  50000   2020-06-15                   3   1000\n",
            "1  102      Bob   24         IT  60000   2019-08-01                   4   2000\n",
            "2  103  Charlie   22    Finance  55000   2021-01-10                   2   3000\n",
            "3  104    David   21  Marketing  52000   2018-07-20                   5   4000\n",
            "4  105     Emma   20      Sales  58000   2022-03-05                   1   5000\n"
          ]
        }
      ]
    },
    {
      "cell_type": "markdown",
      "source": [
        "# **ASSIGN()**"
      ],
      "metadata": {
        "id": "_69JTn2Sv3FJ"
      }
    },
    {
      "cell_type": "code",
      "source": [
        "data.assign(rno=[1,2,3,4,5],batch=[22,33,44,55,66]) #in assign method \" \" quotes are not needed to colname"
      ],
      "metadata": {
        "colab": {
          "base_uri": "https://localhost:8080/",
          "height": 206
        },
        "id": "vMyIQcZVv7Q-",
        "outputId": "81bf7b86-feff-44e8-f86f-04900bd51aa6"
      },
      "execution_count": 10,
      "outputs": [
        {
          "output_type": "execute_result",
          "data": {
            "text/plain": [
              "   EID     Name  Age       Dept    Sal Joining_Date  Experience (Years)  rno  \\\n",
              "0  101    Alice   23         HR  50000   2020-06-15                   3    1   \n",
              "1  102      Bob   24         IT  60000   2019-08-01                   4    2   \n",
              "2  103  Charlie   22    Finance  55000   2021-01-10                   2    3   \n",
              "3  104    David   21  Marketing  52000   2018-07-20                   5    4   \n",
              "4  105     Emma   20      Sales  58000   2022-03-05                   1    5   \n",
              "\n",
              "   batch  \n",
              "0     22  \n",
              "1     33  \n",
              "2     44  \n",
              "3     55  \n",
              "4     66  "
            ],
            "text/html": [
              "\n",
              "  <div id=\"df-539dec93-6844-4915-a05d-40009d753d09\" class=\"colab-df-container\">\n",
              "    <div>\n",
              "<style scoped>\n",
              "    .dataframe tbody tr th:only-of-type {\n",
              "        vertical-align: middle;\n",
              "    }\n",
              "\n",
              "    .dataframe tbody tr th {\n",
              "        vertical-align: top;\n",
              "    }\n",
              "\n",
              "    .dataframe thead th {\n",
              "        text-align: right;\n",
              "    }\n",
              "</style>\n",
              "<table border=\"1\" class=\"dataframe\">\n",
              "  <thead>\n",
              "    <tr style=\"text-align: right;\">\n",
              "      <th></th>\n",
              "      <th>EID</th>\n",
              "      <th>Name</th>\n",
              "      <th>Age</th>\n",
              "      <th>Dept</th>\n",
              "      <th>Sal</th>\n",
              "      <th>Joining_Date</th>\n",
              "      <th>Experience (Years)</th>\n",
              "      <th>rno</th>\n",
              "      <th>batch</th>\n",
              "    </tr>\n",
              "  </thead>\n",
              "  <tbody>\n",
              "    <tr>\n",
              "      <th>0</th>\n",
              "      <td>101</td>\n",
              "      <td>Alice</td>\n",
              "      <td>23</td>\n",
              "      <td>HR</td>\n",
              "      <td>50000</td>\n",
              "      <td>2020-06-15</td>\n",
              "      <td>3</td>\n",
              "      <td>1</td>\n",
              "      <td>22</td>\n",
              "    </tr>\n",
              "    <tr>\n",
              "      <th>1</th>\n",
              "      <td>102</td>\n",
              "      <td>Bob</td>\n",
              "      <td>24</td>\n",
              "      <td>IT</td>\n",
              "      <td>60000</td>\n",
              "      <td>2019-08-01</td>\n",
              "      <td>4</td>\n",
              "      <td>2</td>\n",
              "      <td>33</td>\n",
              "    </tr>\n",
              "    <tr>\n",
              "      <th>2</th>\n",
              "      <td>103</td>\n",
              "      <td>Charlie</td>\n",
              "      <td>22</td>\n",
              "      <td>Finance</td>\n",
              "      <td>55000</td>\n",
              "      <td>2021-01-10</td>\n",
              "      <td>2</td>\n",
              "      <td>3</td>\n",
              "      <td>44</td>\n",
              "    </tr>\n",
              "    <tr>\n",
              "      <th>3</th>\n",
              "      <td>104</td>\n",
              "      <td>David</td>\n",
              "      <td>21</td>\n",
              "      <td>Marketing</td>\n",
              "      <td>52000</td>\n",
              "      <td>2018-07-20</td>\n",
              "      <td>5</td>\n",
              "      <td>4</td>\n",
              "      <td>55</td>\n",
              "    </tr>\n",
              "    <tr>\n",
              "      <th>4</th>\n",
              "      <td>105</td>\n",
              "      <td>Emma</td>\n",
              "      <td>20</td>\n",
              "      <td>Sales</td>\n",
              "      <td>58000</td>\n",
              "      <td>2022-03-05</td>\n",
              "      <td>1</td>\n",
              "      <td>5</td>\n",
              "      <td>66</td>\n",
              "    </tr>\n",
              "  </tbody>\n",
              "</table>\n",
              "</div>\n",
              "    <div class=\"colab-df-buttons\">\n",
              "\n",
              "  <div class=\"colab-df-container\">\n",
              "    <button class=\"colab-df-convert\" onclick=\"convertToInteractive('df-539dec93-6844-4915-a05d-40009d753d09')\"\n",
              "            title=\"Convert this dataframe to an interactive table.\"\n",
              "            style=\"display:none;\">\n",
              "\n",
              "  <svg xmlns=\"http://www.w3.org/2000/svg\" height=\"24px\" viewBox=\"0 -960 960 960\">\n",
              "    <path d=\"M120-120v-720h720v720H120Zm60-500h600v-160H180v160Zm220 220h160v-160H400v160Zm0 220h160v-160H400v160ZM180-400h160v-160H180v160Zm440 0h160v-160H620v160ZM180-180h160v-160H180v160Zm440 0h160v-160H620v160Z\"/>\n",
              "  </svg>\n",
              "    </button>\n",
              "\n",
              "  <style>\n",
              "    .colab-df-container {\n",
              "      display:flex;\n",
              "      gap: 12px;\n",
              "    }\n",
              "\n",
              "    .colab-df-convert {\n",
              "      background-color: #E8F0FE;\n",
              "      border: none;\n",
              "      border-radius: 50%;\n",
              "      cursor: pointer;\n",
              "      display: none;\n",
              "      fill: #1967D2;\n",
              "      height: 32px;\n",
              "      padding: 0 0 0 0;\n",
              "      width: 32px;\n",
              "    }\n",
              "\n",
              "    .colab-df-convert:hover {\n",
              "      background-color: #E2EBFA;\n",
              "      box-shadow: 0px 1px 2px rgba(60, 64, 67, 0.3), 0px 1px 3px 1px rgba(60, 64, 67, 0.15);\n",
              "      fill: #174EA6;\n",
              "    }\n",
              "\n",
              "    .colab-df-buttons div {\n",
              "      margin-bottom: 4px;\n",
              "    }\n",
              "\n",
              "    [theme=dark] .colab-df-convert {\n",
              "      background-color: #3B4455;\n",
              "      fill: #D2E3FC;\n",
              "    }\n",
              "\n",
              "    [theme=dark] .colab-df-convert:hover {\n",
              "      background-color: #434B5C;\n",
              "      box-shadow: 0px 1px 3px 1px rgba(0, 0, 0, 0.15);\n",
              "      filter: drop-shadow(0px 1px 2px rgba(0, 0, 0, 0.3));\n",
              "      fill: #FFFFFF;\n",
              "    }\n",
              "  </style>\n",
              "\n",
              "    <script>\n",
              "      const buttonEl =\n",
              "        document.querySelector('#df-539dec93-6844-4915-a05d-40009d753d09 button.colab-df-convert');\n",
              "      buttonEl.style.display =\n",
              "        google.colab.kernel.accessAllowed ? 'block' : 'none';\n",
              "\n",
              "      async function convertToInteractive(key) {\n",
              "        const element = document.querySelector('#df-539dec93-6844-4915-a05d-40009d753d09');\n",
              "        const dataTable =\n",
              "          await google.colab.kernel.invokeFunction('convertToInteractive',\n",
              "                                                    [key], {});\n",
              "        if (!dataTable) return;\n",
              "\n",
              "        const docLinkHtml = 'Like what you see? Visit the ' +\n",
              "          '<a target=\"_blank\" href=https://colab.research.google.com/notebooks/data_table.ipynb>data table notebook</a>'\n",
              "          + ' to learn more about interactive tables.';\n",
              "        element.innerHTML = '';\n",
              "        dataTable['output_type'] = 'display_data';\n",
              "        await google.colab.output.renderOutput(dataTable, element);\n",
              "        const docLink = document.createElement('div');\n",
              "        docLink.innerHTML = docLinkHtml;\n",
              "        element.appendChild(docLink);\n",
              "      }\n",
              "    </script>\n",
              "  </div>\n",
              "\n",
              "\n",
              "<div id=\"df-911f3879-25e9-495f-bb3b-512d99402253\">\n",
              "  <button class=\"colab-df-quickchart\" onclick=\"quickchart('df-911f3879-25e9-495f-bb3b-512d99402253')\"\n",
              "            title=\"Suggest charts\"\n",
              "            style=\"display:none;\">\n",
              "\n",
              "<svg xmlns=\"http://www.w3.org/2000/svg\" height=\"24px\"viewBox=\"0 0 24 24\"\n",
              "     width=\"24px\">\n",
              "    <g>\n",
              "        <path d=\"M19 3H5c-1.1 0-2 .9-2 2v14c0 1.1.9 2 2 2h14c1.1 0 2-.9 2-2V5c0-1.1-.9-2-2-2zM9 17H7v-7h2v7zm4 0h-2V7h2v10zm4 0h-2v-4h2v4z\"/>\n",
              "    </g>\n",
              "</svg>\n",
              "  </button>\n",
              "\n",
              "<style>\n",
              "  .colab-df-quickchart {\n",
              "      --bg-color: #E8F0FE;\n",
              "      --fill-color: #1967D2;\n",
              "      --hover-bg-color: #E2EBFA;\n",
              "      --hover-fill-color: #174EA6;\n",
              "      --disabled-fill-color: #AAA;\n",
              "      --disabled-bg-color: #DDD;\n",
              "  }\n",
              "\n",
              "  [theme=dark] .colab-df-quickchart {\n",
              "      --bg-color: #3B4455;\n",
              "      --fill-color: #D2E3FC;\n",
              "      --hover-bg-color: #434B5C;\n",
              "      --hover-fill-color: #FFFFFF;\n",
              "      --disabled-bg-color: #3B4455;\n",
              "      --disabled-fill-color: #666;\n",
              "  }\n",
              "\n",
              "  .colab-df-quickchart {\n",
              "    background-color: var(--bg-color);\n",
              "    border: none;\n",
              "    border-radius: 50%;\n",
              "    cursor: pointer;\n",
              "    display: none;\n",
              "    fill: var(--fill-color);\n",
              "    height: 32px;\n",
              "    padding: 0;\n",
              "    width: 32px;\n",
              "  }\n",
              "\n",
              "  .colab-df-quickchart:hover {\n",
              "    background-color: var(--hover-bg-color);\n",
              "    box-shadow: 0 1px 2px rgba(60, 64, 67, 0.3), 0 1px 3px 1px rgba(60, 64, 67, 0.15);\n",
              "    fill: var(--button-hover-fill-color);\n",
              "  }\n",
              "\n",
              "  .colab-df-quickchart-complete:disabled,\n",
              "  .colab-df-quickchart-complete:disabled:hover {\n",
              "    background-color: var(--disabled-bg-color);\n",
              "    fill: var(--disabled-fill-color);\n",
              "    box-shadow: none;\n",
              "  }\n",
              "\n",
              "  .colab-df-spinner {\n",
              "    border: 2px solid var(--fill-color);\n",
              "    border-color: transparent;\n",
              "    border-bottom-color: var(--fill-color);\n",
              "    animation:\n",
              "      spin 1s steps(1) infinite;\n",
              "  }\n",
              "\n",
              "  @keyframes spin {\n",
              "    0% {\n",
              "      border-color: transparent;\n",
              "      border-bottom-color: var(--fill-color);\n",
              "      border-left-color: var(--fill-color);\n",
              "    }\n",
              "    20% {\n",
              "      border-color: transparent;\n",
              "      border-left-color: var(--fill-color);\n",
              "      border-top-color: var(--fill-color);\n",
              "    }\n",
              "    30% {\n",
              "      border-color: transparent;\n",
              "      border-left-color: var(--fill-color);\n",
              "      border-top-color: var(--fill-color);\n",
              "      border-right-color: var(--fill-color);\n",
              "    }\n",
              "    40% {\n",
              "      border-color: transparent;\n",
              "      border-right-color: var(--fill-color);\n",
              "      border-top-color: var(--fill-color);\n",
              "    }\n",
              "    60% {\n",
              "      border-color: transparent;\n",
              "      border-right-color: var(--fill-color);\n",
              "    }\n",
              "    80% {\n",
              "      border-color: transparent;\n",
              "      border-right-color: var(--fill-color);\n",
              "      border-bottom-color: var(--fill-color);\n",
              "    }\n",
              "    90% {\n",
              "      border-color: transparent;\n",
              "      border-bottom-color: var(--fill-color);\n",
              "    }\n",
              "  }\n",
              "</style>\n",
              "\n",
              "  <script>\n",
              "    async function quickchart(key) {\n",
              "      const quickchartButtonEl =\n",
              "        document.querySelector('#' + key + ' button');\n",
              "      quickchartButtonEl.disabled = true;  // To prevent multiple clicks.\n",
              "      quickchartButtonEl.classList.add('colab-df-spinner');\n",
              "      try {\n",
              "        const charts = await google.colab.kernel.invokeFunction(\n",
              "            'suggestCharts', [key], {});\n",
              "      } catch (error) {\n",
              "        console.error('Error during call to suggestCharts:', error);\n",
              "      }\n",
              "      quickchartButtonEl.classList.remove('colab-df-spinner');\n",
              "      quickchartButtonEl.classList.add('colab-df-quickchart-complete');\n",
              "    }\n",
              "    (() => {\n",
              "      let quickchartButtonEl =\n",
              "        document.querySelector('#df-911f3879-25e9-495f-bb3b-512d99402253 button');\n",
              "      quickchartButtonEl.style.display =\n",
              "        google.colab.kernel.accessAllowed ? 'block' : 'none';\n",
              "    })();\n",
              "  </script>\n",
              "</div>\n",
              "\n",
              "    </div>\n",
              "  </div>\n"
            ],
            "application/vnd.google.colaboratory.intrinsic+json": {
              "type": "dataframe",
              "summary": "{\n  \"name\": \"data\",\n  \"rows\": 5,\n  \"fields\": [\n    {\n      \"column\": \"EID\",\n      \"properties\": {\n        \"dtype\": \"number\",\n        \"std\": 1,\n        \"min\": 101,\n        \"max\": 105,\n        \"num_unique_values\": 5,\n        \"samples\": [\n          102,\n          105,\n          103\n        ],\n        \"semantic_type\": \"\",\n        \"description\": \"\"\n      }\n    },\n    {\n      \"column\": \"Name\",\n      \"properties\": {\n        \"dtype\": \"string\",\n        \"num_unique_values\": 5,\n        \"samples\": [\n          \"Bob\",\n          \"Emma\",\n          \"Charlie\"\n        ],\n        \"semantic_type\": \"\",\n        \"description\": \"\"\n      }\n    },\n    {\n      \"column\": \"Age\",\n      \"properties\": {\n        \"dtype\": \"number\",\n        \"std\": 1,\n        \"min\": 20,\n        \"max\": 24,\n        \"num_unique_values\": 5,\n        \"samples\": [\n          24,\n          20,\n          22\n        ],\n        \"semantic_type\": \"\",\n        \"description\": \"\"\n      }\n    },\n    {\n      \"column\": \"Dept\",\n      \"properties\": {\n        \"dtype\": \"string\",\n        \"num_unique_values\": 5,\n        \"samples\": [\n          \"IT\",\n          \"Sales\",\n          \"Finance\"\n        ],\n        \"semantic_type\": \"\",\n        \"description\": \"\"\n      }\n    },\n    {\n      \"column\": \"Sal\",\n      \"properties\": {\n        \"dtype\": \"number\",\n        \"std\": 4123,\n        \"min\": 50000,\n        \"max\": 60000,\n        \"num_unique_values\": 5,\n        \"samples\": [\n          60000,\n          58000,\n          55000\n        ],\n        \"semantic_type\": \"\",\n        \"description\": \"\"\n      }\n    },\n    {\n      \"column\": \"Joining_Date\",\n      \"properties\": {\n        \"dtype\": \"object\",\n        \"num_unique_values\": 5,\n        \"samples\": [\n          \"2019-08-01\",\n          \"2022-03-05\",\n          \"2021-01-10\"\n        ],\n        \"semantic_type\": \"\",\n        \"description\": \"\"\n      }\n    },\n    {\n      \"column\": \"Experience (Years)\",\n      \"properties\": {\n        \"dtype\": \"number\",\n        \"std\": 1,\n        \"min\": 1,\n        \"max\": 5,\n        \"num_unique_values\": 5,\n        \"samples\": [\n          4,\n          1,\n          2\n        ],\n        \"semantic_type\": \"\",\n        \"description\": \"\"\n      }\n    },\n    {\n      \"column\": \"rno\",\n      \"properties\": {\n        \"dtype\": \"number\",\n        \"std\": 1,\n        \"min\": 1,\n        \"max\": 5,\n        \"num_unique_values\": 5,\n        \"samples\": [\n          2,\n          5,\n          3\n        ],\n        \"semantic_type\": \"\",\n        \"description\": \"\"\n      }\n    },\n    {\n      \"column\": \"batch\",\n      \"properties\": {\n        \"dtype\": \"number\",\n        \"std\": 17,\n        \"min\": 22,\n        \"max\": 66,\n        \"num_unique_values\": 5,\n        \"samples\": [\n          33,\n          66,\n          44\n        ],\n        \"semantic_type\": \"\",\n        \"description\": \"\"\n      }\n    }\n  ]\n}"
            }
          },
          "metadata": {},
          "execution_count": 10
        }
      ]
    },
    {
      "cell_type": "markdown",
      "source": [
        "# **DROP()**"
      ],
      "metadata": {
        "id": "ZADgR6bdw4Qu"
      }
    },
    {
      "cell_type": "code",
      "source": [
        "data.drop('Age',axis=1) #  column and axis=1 is for deleting entire column\n",
        "data.drop(4,axis=0)     #   index and axis=0 is used for deleting entire row"
      ],
      "metadata": {
        "colab": {
          "base_uri": "https://localhost:8080/",
          "height": 175
        },
        "id": "B3MgPfnDw8Dx",
        "outputId": "b944184e-62b5-4f6c-d944-dd91482451b6"
      },
      "execution_count": 14,
      "outputs": [
        {
          "output_type": "execute_result",
          "data": {
            "text/plain": [
              "   EID     Name  Age       Dept    Sal Joining_Date  Experience (Years)\n",
              "0  101    Alice   23         HR  50000   2020-06-15                   3\n",
              "1  102      Bob   24         IT  60000   2019-08-01                   4\n",
              "2  103  Charlie   22    Finance  55000   2021-01-10                   2\n",
              "3  104    David   21  Marketing  52000   2018-07-20                   5"
            ],
            "text/html": [
              "\n",
              "  <div id=\"df-ca4e0c2d-96d2-478e-89b5-3735e1ef4a42\" class=\"colab-df-container\">\n",
              "    <div>\n",
              "<style scoped>\n",
              "    .dataframe tbody tr th:only-of-type {\n",
              "        vertical-align: middle;\n",
              "    }\n",
              "\n",
              "    .dataframe tbody tr th {\n",
              "        vertical-align: top;\n",
              "    }\n",
              "\n",
              "    .dataframe thead th {\n",
              "        text-align: right;\n",
              "    }\n",
              "</style>\n",
              "<table border=\"1\" class=\"dataframe\">\n",
              "  <thead>\n",
              "    <tr style=\"text-align: right;\">\n",
              "      <th></th>\n",
              "      <th>EID</th>\n",
              "      <th>Name</th>\n",
              "      <th>Age</th>\n",
              "      <th>Dept</th>\n",
              "      <th>Sal</th>\n",
              "      <th>Joining_Date</th>\n",
              "      <th>Experience (Years)</th>\n",
              "    </tr>\n",
              "  </thead>\n",
              "  <tbody>\n",
              "    <tr>\n",
              "      <th>0</th>\n",
              "      <td>101</td>\n",
              "      <td>Alice</td>\n",
              "      <td>23</td>\n",
              "      <td>HR</td>\n",
              "      <td>50000</td>\n",
              "      <td>2020-06-15</td>\n",
              "      <td>3</td>\n",
              "    </tr>\n",
              "    <tr>\n",
              "      <th>1</th>\n",
              "      <td>102</td>\n",
              "      <td>Bob</td>\n",
              "      <td>24</td>\n",
              "      <td>IT</td>\n",
              "      <td>60000</td>\n",
              "      <td>2019-08-01</td>\n",
              "      <td>4</td>\n",
              "    </tr>\n",
              "    <tr>\n",
              "      <th>2</th>\n",
              "      <td>103</td>\n",
              "      <td>Charlie</td>\n",
              "      <td>22</td>\n",
              "      <td>Finance</td>\n",
              "      <td>55000</td>\n",
              "      <td>2021-01-10</td>\n",
              "      <td>2</td>\n",
              "    </tr>\n",
              "    <tr>\n",
              "      <th>3</th>\n",
              "      <td>104</td>\n",
              "      <td>David</td>\n",
              "      <td>21</td>\n",
              "      <td>Marketing</td>\n",
              "      <td>52000</td>\n",
              "      <td>2018-07-20</td>\n",
              "      <td>5</td>\n",
              "    </tr>\n",
              "  </tbody>\n",
              "</table>\n",
              "</div>\n",
              "    <div class=\"colab-df-buttons\">\n",
              "\n",
              "  <div class=\"colab-df-container\">\n",
              "    <button class=\"colab-df-convert\" onclick=\"convertToInteractive('df-ca4e0c2d-96d2-478e-89b5-3735e1ef4a42')\"\n",
              "            title=\"Convert this dataframe to an interactive table.\"\n",
              "            style=\"display:none;\">\n",
              "\n",
              "  <svg xmlns=\"http://www.w3.org/2000/svg\" height=\"24px\" viewBox=\"0 -960 960 960\">\n",
              "    <path d=\"M120-120v-720h720v720H120Zm60-500h600v-160H180v160Zm220 220h160v-160H400v160Zm0 220h160v-160H400v160ZM180-400h160v-160H180v160Zm440 0h160v-160H620v160ZM180-180h160v-160H180v160Zm440 0h160v-160H620v160Z\"/>\n",
              "  </svg>\n",
              "    </button>\n",
              "\n",
              "  <style>\n",
              "    .colab-df-container {\n",
              "      display:flex;\n",
              "      gap: 12px;\n",
              "    }\n",
              "\n",
              "    .colab-df-convert {\n",
              "      background-color: #E8F0FE;\n",
              "      border: none;\n",
              "      border-radius: 50%;\n",
              "      cursor: pointer;\n",
              "      display: none;\n",
              "      fill: #1967D2;\n",
              "      height: 32px;\n",
              "      padding: 0 0 0 0;\n",
              "      width: 32px;\n",
              "    }\n",
              "\n",
              "    .colab-df-convert:hover {\n",
              "      background-color: #E2EBFA;\n",
              "      box-shadow: 0px 1px 2px rgba(60, 64, 67, 0.3), 0px 1px 3px 1px rgba(60, 64, 67, 0.15);\n",
              "      fill: #174EA6;\n",
              "    }\n",
              "\n",
              "    .colab-df-buttons div {\n",
              "      margin-bottom: 4px;\n",
              "    }\n",
              "\n",
              "    [theme=dark] .colab-df-convert {\n",
              "      background-color: #3B4455;\n",
              "      fill: #D2E3FC;\n",
              "    }\n",
              "\n",
              "    [theme=dark] .colab-df-convert:hover {\n",
              "      background-color: #434B5C;\n",
              "      box-shadow: 0px 1px 3px 1px rgba(0, 0, 0, 0.15);\n",
              "      filter: drop-shadow(0px 1px 2px rgba(0, 0, 0, 0.3));\n",
              "      fill: #FFFFFF;\n",
              "    }\n",
              "  </style>\n",
              "\n",
              "    <script>\n",
              "      const buttonEl =\n",
              "        document.querySelector('#df-ca4e0c2d-96d2-478e-89b5-3735e1ef4a42 button.colab-df-convert');\n",
              "      buttonEl.style.display =\n",
              "        google.colab.kernel.accessAllowed ? 'block' : 'none';\n",
              "\n",
              "      async function convertToInteractive(key) {\n",
              "        const element = document.querySelector('#df-ca4e0c2d-96d2-478e-89b5-3735e1ef4a42');\n",
              "        const dataTable =\n",
              "          await google.colab.kernel.invokeFunction('convertToInteractive',\n",
              "                                                    [key], {});\n",
              "        if (!dataTable) return;\n",
              "\n",
              "        const docLinkHtml = 'Like what you see? Visit the ' +\n",
              "          '<a target=\"_blank\" href=https://colab.research.google.com/notebooks/data_table.ipynb>data table notebook</a>'\n",
              "          + ' to learn more about interactive tables.';\n",
              "        element.innerHTML = '';\n",
              "        dataTable['output_type'] = 'display_data';\n",
              "        await google.colab.output.renderOutput(dataTable, element);\n",
              "        const docLink = document.createElement('div');\n",
              "        docLink.innerHTML = docLinkHtml;\n",
              "        element.appendChild(docLink);\n",
              "      }\n",
              "    </script>\n",
              "  </div>\n",
              "\n",
              "\n",
              "<div id=\"df-853b8775-d806-4dd6-873d-1c6a1cd33da0\">\n",
              "  <button class=\"colab-df-quickchart\" onclick=\"quickchart('df-853b8775-d806-4dd6-873d-1c6a1cd33da0')\"\n",
              "            title=\"Suggest charts\"\n",
              "            style=\"display:none;\">\n",
              "\n",
              "<svg xmlns=\"http://www.w3.org/2000/svg\" height=\"24px\"viewBox=\"0 0 24 24\"\n",
              "     width=\"24px\">\n",
              "    <g>\n",
              "        <path d=\"M19 3H5c-1.1 0-2 .9-2 2v14c0 1.1.9 2 2 2h14c1.1 0 2-.9 2-2V5c0-1.1-.9-2-2-2zM9 17H7v-7h2v7zm4 0h-2V7h2v10zm4 0h-2v-4h2v4z\"/>\n",
              "    </g>\n",
              "</svg>\n",
              "  </button>\n",
              "\n",
              "<style>\n",
              "  .colab-df-quickchart {\n",
              "      --bg-color: #E8F0FE;\n",
              "      --fill-color: #1967D2;\n",
              "      --hover-bg-color: #E2EBFA;\n",
              "      --hover-fill-color: #174EA6;\n",
              "      --disabled-fill-color: #AAA;\n",
              "      --disabled-bg-color: #DDD;\n",
              "  }\n",
              "\n",
              "  [theme=dark] .colab-df-quickchart {\n",
              "      --bg-color: #3B4455;\n",
              "      --fill-color: #D2E3FC;\n",
              "      --hover-bg-color: #434B5C;\n",
              "      --hover-fill-color: #FFFFFF;\n",
              "      --disabled-bg-color: #3B4455;\n",
              "      --disabled-fill-color: #666;\n",
              "  }\n",
              "\n",
              "  .colab-df-quickchart {\n",
              "    background-color: var(--bg-color);\n",
              "    border: none;\n",
              "    border-radius: 50%;\n",
              "    cursor: pointer;\n",
              "    display: none;\n",
              "    fill: var(--fill-color);\n",
              "    height: 32px;\n",
              "    padding: 0;\n",
              "    width: 32px;\n",
              "  }\n",
              "\n",
              "  .colab-df-quickchart:hover {\n",
              "    background-color: var(--hover-bg-color);\n",
              "    box-shadow: 0 1px 2px rgba(60, 64, 67, 0.3), 0 1px 3px 1px rgba(60, 64, 67, 0.15);\n",
              "    fill: var(--button-hover-fill-color);\n",
              "  }\n",
              "\n",
              "  .colab-df-quickchart-complete:disabled,\n",
              "  .colab-df-quickchart-complete:disabled:hover {\n",
              "    background-color: var(--disabled-bg-color);\n",
              "    fill: var(--disabled-fill-color);\n",
              "    box-shadow: none;\n",
              "  }\n",
              "\n",
              "  .colab-df-spinner {\n",
              "    border: 2px solid var(--fill-color);\n",
              "    border-color: transparent;\n",
              "    border-bottom-color: var(--fill-color);\n",
              "    animation:\n",
              "      spin 1s steps(1) infinite;\n",
              "  }\n",
              "\n",
              "  @keyframes spin {\n",
              "    0% {\n",
              "      border-color: transparent;\n",
              "      border-bottom-color: var(--fill-color);\n",
              "      border-left-color: var(--fill-color);\n",
              "    }\n",
              "    20% {\n",
              "      border-color: transparent;\n",
              "      border-left-color: var(--fill-color);\n",
              "      border-top-color: var(--fill-color);\n",
              "    }\n",
              "    30% {\n",
              "      border-color: transparent;\n",
              "      border-left-color: var(--fill-color);\n",
              "      border-top-color: var(--fill-color);\n",
              "      border-right-color: var(--fill-color);\n",
              "    }\n",
              "    40% {\n",
              "      border-color: transparent;\n",
              "      border-right-color: var(--fill-color);\n",
              "      border-top-color: var(--fill-color);\n",
              "    }\n",
              "    60% {\n",
              "      border-color: transparent;\n",
              "      border-right-color: var(--fill-color);\n",
              "    }\n",
              "    80% {\n",
              "      border-color: transparent;\n",
              "      border-right-color: var(--fill-color);\n",
              "      border-bottom-color: var(--fill-color);\n",
              "    }\n",
              "    90% {\n",
              "      border-color: transparent;\n",
              "      border-bottom-color: var(--fill-color);\n",
              "    }\n",
              "  }\n",
              "</style>\n",
              "\n",
              "  <script>\n",
              "    async function quickchart(key) {\n",
              "      const quickchartButtonEl =\n",
              "        document.querySelector('#' + key + ' button');\n",
              "      quickchartButtonEl.disabled = true;  // To prevent multiple clicks.\n",
              "      quickchartButtonEl.classList.add('colab-df-spinner');\n",
              "      try {\n",
              "        const charts = await google.colab.kernel.invokeFunction(\n",
              "            'suggestCharts', [key], {});\n",
              "      } catch (error) {\n",
              "        console.error('Error during call to suggestCharts:', error);\n",
              "      }\n",
              "      quickchartButtonEl.classList.remove('colab-df-spinner');\n",
              "      quickchartButtonEl.classList.add('colab-df-quickchart-complete');\n",
              "    }\n",
              "    (() => {\n",
              "      let quickchartButtonEl =\n",
              "        document.querySelector('#df-853b8775-d806-4dd6-873d-1c6a1cd33da0 button');\n",
              "      quickchartButtonEl.style.display =\n",
              "        google.colab.kernel.accessAllowed ? 'block' : 'none';\n",
              "    })();\n",
              "  </script>\n",
              "</div>\n",
              "\n",
              "    </div>\n",
              "  </div>\n"
            ],
            "application/vnd.google.colaboratory.intrinsic+json": {
              "type": "dataframe",
              "summary": "{\n  \"name\": \"data\",\n  \"rows\": 4,\n  \"fields\": [\n    {\n      \"column\": \"EID\",\n      \"properties\": {\n        \"dtype\": \"number\",\n        \"std\": 1,\n        \"min\": 101,\n        \"max\": 104,\n        \"num_unique_values\": 4,\n        \"samples\": [\n          102,\n          104,\n          101\n        ],\n        \"semantic_type\": \"\",\n        \"description\": \"\"\n      }\n    },\n    {\n      \"column\": \"Name\",\n      \"properties\": {\n        \"dtype\": \"string\",\n        \"num_unique_values\": 4,\n        \"samples\": [\n          \"Bob\",\n          \"David\",\n          \"Alice\"\n        ],\n        \"semantic_type\": \"\",\n        \"description\": \"\"\n      }\n    },\n    {\n      \"column\": \"Age\",\n      \"properties\": {\n        \"dtype\": \"number\",\n        \"std\": 1,\n        \"min\": 21,\n        \"max\": 24,\n        \"num_unique_values\": 4,\n        \"samples\": [\n          24,\n          21,\n          23\n        ],\n        \"semantic_type\": \"\",\n        \"description\": \"\"\n      }\n    },\n    {\n      \"column\": \"Dept\",\n      \"properties\": {\n        \"dtype\": \"string\",\n        \"num_unique_values\": 4,\n        \"samples\": [\n          \"IT\",\n          \"Marketing\",\n          \"HR\"\n        ],\n        \"semantic_type\": \"\",\n        \"description\": \"\"\n      }\n    },\n    {\n      \"column\": \"Sal\",\n      \"properties\": {\n        \"dtype\": \"number\",\n        \"std\": 4349,\n        \"min\": 50000,\n        \"max\": 60000,\n        \"num_unique_values\": 4,\n        \"samples\": [\n          60000,\n          52000,\n          50000\n        ],\n        \"semantic_type\": \"\",\n        \"description\": \"\"\n      }\n    },\n    {\n      \"column\": \"Joining_Date\",\n      \"properties\": {\n        \"dtype\": \"object\",\n        \"num_unique_values\": 4,\n        \"samples\": [\n          \"2019-08-01\",\n          \"2018-07-20\",\n          \"2020-06-15\"\n        ],\n        \"semantic_type\": \"\",\n        \"description\": \"\"\n      }\n    },\n    {\n      \"column\": \"Experience (Years)\",\n      \"properties\": {\n        \"dtype\": \"number\",\n        \"std\": 1,\n        \"min\": 2,\n        \"max\": 5,\n        \"num_unique_values\": 4,\n        \"samples\": [\n          4,\n          5,\n          3\n        ],\n        \"semantic_type\": \"\",\n        \"description\": \"\"\n      }\n    }\n  ]\n}"
            }
          },
          "metadata": {},
          "execution_count": 14
        }
      ]
    },
    {
      "cell_type": "markdown",
      "source": [
        "# **POP()**"
      ],
      "metadata": {
        "id": "IqE1hSi1yWAE"
      }
    },
    {
      "cell_type": "code",
      "source": [
        "# data.pop('Joining_Date')\n",
        "print(data)"
      ],
      "metadata": {
        "colab": {
          "base_uri": "https://localhost:8080/"
        },
        "id": "WRGJkJMwzfH_",
        "outputId": "4b855e75-804b-4a66-ffd2-accb97f13366"
      },
      "execution_count": 21,
      "outputs": [
        {
          "output_type": "stream",
          "name": "stdout",
          "text": [
            "   EID     Name  Age       Dept    Sal  Experience (Years)\n",
            "0  101    Alice   23         HR  50000                   3\n",
            "1  102      Bob   24         IT  60000                   4\n",
            "2  103  Charlie   22    Finance  55000                   2\n",
            "3  104    David   21  Marketing  52000                   5\n",
            "4  105     Emma   20      Sales  58000                   1\n"
          ]
        }
      ]
    },
    {
      "cell_type": "markdown",
      "source": [
        "# **del (keyword)**"
      ],
      "metadata": {
        "id": "65Ne80qCzsNi"
      }
    },
    {
      "cell_type": "code",
      "source": [
        "del data['Age']\n",
        "print(data)"
      ],
      "metadata": {
        "colab": {
          "base_uri": "https://localhost:8080/"
        },
        "id": "tcciOZ57zvUs",
        "outputId": "dc9688c9-2c72-4a09-a8e7-a1e2b4df33c6"
      },
      "execution_count": 22,
      "outputs": [
        {
          "output_type": "stream",
          "name": "stdout",
          "text": [
            "   EID     Name       Dept    Sal  Experience (Years)\n",
            "0  101    Alice         HR  50000                   3\n",
            "1  102      Bob         IT  60000                   4\n",
            "2  103  Charlie    Finance  55000                   2\n",
            "3  104    David  Marketing  52000                   5\n",
            "4  105     Emma      Sales  58000                   1\n"
          ]
        }
      ]
    },
    {
      "cell_type": "markdown",
      "source": [
        "# **astype() **\n",
        "- It is used to convert the datatype to another datatype of the particular column\n"
      ],
      "metadata": {
        "id": "9X4ZunpO0EHx"
      }
    },
    {
      "cell_type": "code",
      "source": [
        "import pandas as pd\n",
        "employee_data = {\n",
        "    \"EID\": [101, 102, 103, 104, 105],\n",
        "    \"Name\": [\"Alice\", \"Bob\", \"Charlie\", \"David\", \"Emma\"],\n",
        "    \"Dept\": [\"HR\", \"IT\", \"Finance\", \"Marketing\", \"Sales\"],\n",
        "    \"Sal\": [50000, 60000, 55000, 52000, 58000],\n",
        "    \"Joining_Date\": [\"2020-06-15\", \"2019-08-01\", \"2021-01-10\", \"2018-07-20\", \"2022-03-05\"],\n",
        "    \"Experience (Years)\": [3, 4, 2, 5, 1]\n",
        "}\n",
        "\n",
        "data=pd.DataFrame(employee_data)\n",
        "# print(data)\n",
        "print(data.astype({'EID':bool,'Sal':float}))     #used to change the datatype"
      ],
      "metadata": {
        "colab": {
          "base_uri": "https://localhost:8080/"
        },
        "id": "ogBioPo50hKP",
        "outputId": "a10499c5-c46e-494c-a067-b8a20185879a"
      },
      "execution_count": 28,
      "outputs": [
        {
          "output_type": "stream",
          "name": "stdout",
          "text": [
            "    EID     Name       Dept      Sal Joining_Date  Experience (Years)\n",
            "0  True    Alice         HR  50000.0   2020-06-15                   3\n",
            "1  True      Bob         IT  60000.0   2019-08-01                   4\n",
            "2  True  Charlie    Finance  55000.0   2021-01-10                   2\n",
            "3  True    David  Marketing  52000.0   2018-07-20                   5\n",
            "4  True     Emma      Sales  58000.0   2022-03-05                   1\n"
          ]
        }
      ]
    },
    {
      "cell_type": "markdown",
      "source": [
        "# **Fillna() **\n",
        "\n",
        "- used to fill the null values in the dataframe"
      ],
      "metadata": {
        "id": "bKucrS3P2IKC"
      }
    },
    {
      "cell_type": "code",
      "source": [
        "employee_data = {\n",
        "    \"Employee_ID\": [101, None, 103, 104, 105],\n",
        "    \"Name\": [\"Alice\", \"Bob\", \"Charlie\", \"David\",None],\n",
        "    \"Department\": [\"HR\", \"IT\", None, \"Marketing\", \"Sales\"],\n",
        "    \"Salary\": [None, 60000, 55000, 52000, 58000],\n",
        "    \"Joining_Date\": [\"2020-06-15\", \"2019-08-01\", None, \"2018-07-20\", \"2022-03-05\"],\n",
        "    \"Experience (Years)\": [3, 4, None, 5, 1]\n",
        "}\n",
        "\n",
        "data=pd.DataFrame(employee_data)\n",
        "print(data)\n",
        "# data.fillna(9999)  #9999 is filled at all the null value"
      ],
      "metadata": {
        "colab": {
          "base_uri": "https://localhost:8080/"
        },
        "id": "skQq0PlC1jke",
        "outputId": "bb03f684-27ad-45dc-a272-6e4172c122eb"
      },
      "execution_count": 32,
      "outputs": [
        {
          "output_type": "stream",
          "name": "stdout",
          "text": [
            "   Employee_ID     Name Department   Salary Joining_Date  Experience (Years)\n",
            "0        101.0    Alice         HR      NaN   2020-06-15                 3.0\n",
            "1          NaN      Bob         IT  60000.0   2019-08-01                 4.0\n",
            "2        103.0  Charlie       None  55000.0         None                 NaN\n",
            "3        104.0    David  Marketing  52000.0   2018-07-20                 5.0\n",
            "4        105.0     None      Sales  58000.0   2022-03-05                 1.0\n"
          ]
        }
      ]
    },
    {
      "cell_type": "markdown",
      "source": [
        "#  1)ffill() forward fill\n",
        "-It copys the previous value to the null\n",
        "\n",
        "#  2)bfill()\n",
        "-It copys the next value to the  null\n",
        "\n"
      ],
      "metadata": {
        "id": "3sEA7TzI2hVh"
      }
    },
    {
      "cell_type": "code",
      "source": [
        "employee_data = {\n",
        "    \"Employee_ID\": [101, None, 103, 104, 105],\n",
        "    \"Name\": [\"Alice\", \"Bob\", \"Charlie\", \"David\",None],\n",
        "    \"Department\": [\"HR\", \"IT\", None, \"Marketing\", \"Sales\"],\n",
        "    \"Salary\": [None, 60000, 55000, 52000, 58000],\n",
        "    \"Joining_Date\": [\"2020-06-15\", \"2019-08-01\", None, \"2018-07-20\", \"2022-03-05\"],\n",
        "    \"Experience (Years)\": [3, 4, None, 5, 1]\n",
        "}\n",
        "\n",
        "data=pd.DataFrame(employee_data)\n",
        "print(data.ffill(axis=1))           # axis=1 forward fill column to column  / axis=0 forward fill row by row"
      ],
      "metadata": {
        "colab": {
          "base_uri": "https://localhost:8080/"
        },
        "id": "bMjKzYuR3U6g",
        "outputId": "1a7394e0-4d92-4a40-bd42-98619502b81a"
      },
      "execution_count": 50,
      "outputs": [
        {
          "output_type": "stream",
          "name": "stdout",
          "text": [
            "  Employee_ID     Name Department   Salary Joining_Date Experience (Years)\n",
            "0       101.0    Alice         HR       HR   2020-06-15                3.0\n",
            "1         NaN      Bob         IT  60000.0   2019-08-01                4.0\n",
            "2       103.0  Charlie    Charlie  55000.0      55000.0            55000.0\n",
            "3       104.0    David  Marketing  52000.0   2018-07-20                5.0\n",
            "4       105.0    105.0      Sales  58000.0   2022-03-05                1.0\n"
          ]
        }
      ]
    },
    {
      "cell_type": "markdown",
      "source": [],
      "metadata": {
        "id": "NDoo6u4J38UT"
      }
    },
    {
      "cell_type": "code",
      "source": [
        "print(data.bfill(axis=1))    # axis=1 backward fill column to column  / axis=0 backward fill row by row"
      ],
      "metadata": {
        "colab": {
          "base_uri": "https://localhost:8080/"
        },
        "id": "u1foJU0N35J0",
        "outputId": "013f253c-58b2-4306-e8f7-076c6982fceb"
      },
      "execution_count": 49,
      "outputs": [
        {
          "output_type": "stream",
          "name": "stdout",
          "text": [
            "  Employee_ID     Name Department      Salary Joining_Date Experience (Years)\n",
            "0       101.0    Alice         HR  2020-06-15   2020-06-15                3.0\n",
            "1         Bob      Bob         IT     60000.0   2019-08-01                4.0\n",
            "2       103.0  Charlie    55000.0     55000.0          NaN                NaN\n",
            "3       104.0    David  Marketing     52000.0   2018-07-20                5.0\n",
            "4       105.0    Sales      Sales     58000.0   2022-03-05                1.0\n"
          ]
        }
      ]
    },
    {
      "cell_type": "markdown",
      "source": [
        "\n",
        "\n",
        "* duplicated()           - checks the duplicate element  \n",
        "* drop_duplicates()      - delete the duplicated element\n",
        "\n",
        "\n",
        "*   isnull()               - if missing value is present then it will give true else false\n",
        "*  isnull().sum()         - gives the sum of the true element\n",
        "\n",
        "\n",
        "* notnull()           -it will show true if the position is not null\n",
        "\n",
        "\n",
        "\n",
        "\n",
        "\n",
        "\n",
        "\n",
        "\n",
        "\n",
        "\n"
      ],
      "metadata": {
        "id": "GuPT7qGd4cxv"
      }
    },
    {
      "cell_type": "code",
      "source": [
        "print(data.duplicated())\n",
        "print(data.drop_duplicates())\n",
        "print(data.isnull())\n",
        "print(data.isnull().sum())\n",
        "print(data.notnull())"
      ],
      "metadata": {
        "colab": {
          "base_uri": "https://localhost:8080/"
        },
        "collapsed": true,
        "id": "mnceJMnu5UIW",
        "outputId": "b95e8010-f5a0-43b6-bb95-5337b370f79a"
      },
      "execution_count": 40,
      "outputs": [
        {
          "output_type": "stream",
          "name": "stdout",
          "text": [
            "0    False\n",
            "1    False\n",
            "2    False\n",
            "3    False\n",
            "4    False\n",
            "dtype: bool\n",
            "   Employee_ID     Name Department   Salary Joining_Date  Experience (Years)\n",
            "0        101.0    Alice         HR      NaN   2020-06-15                 3.0\n",
            "1          NaN      Bob         IT  60000.0   2019-08-01                 4.0\n",
            "2        103.0  Charlie       None  55000.0         None                 NaN\n",
            "3        104.0    David  Marketing  52000.0   2018-07-20                 5.0\n",
            "4        105.0     None      Sales  58000.0   2022-03-05                 1.0\n",
            "   Employee_ID   Name  Department  Salary  Joining_Date  Experience (Years)\n",
            "0        False  False       False    True         False               False\n",
            "1         True  False       False   False         False               False\n",
            "2        False  False        True   False          True                True\n",
            "3        False  False       False   False         False               False\n",
            "4        False   True       False   False         False               False\n",
            "Employee_ID           1\n",
            "Name                  1\n",
            "Department            1\n",
            "Salary                1\n",
            "Joining_Date          1\n",
            "Experience (Years)    1\n",
            "dtype: int64\n",
            "   Employee_ID   Name  Department  Salary  Joining_Date  Experience (Years)\n",
            "0         True   True        True   False          True                True\n",
            "1        False   True        True    True          True                True\n",
            "2         True   True       False    True         False               False\n",
            "3         True   True        True    True          True                True\n",
            "4         True  False        True    True          True                True\n"
          ]
        }
      ]
    },
    {
      "cell_type": "markdown",
      "source": [
        "# **dropna()** - used to delete the null temporaryly\n",
        "     #dropna(inplace=True)  it is used to delete the null values permenently"
      ],
      "metadata": {
        "id": "LSruBR-O6RFC"
      }
    },
    {
      "cell_type": "markdown",
      "source": [],
      "metadata": {
        "id": "kJPohBx85VBA"
      }
    },
    {
      "cell_type": "code",
      "source": [
        "print(data)\n",
        "data.dropna(inplace=True) #delete the row which content null value\n",
        "print(data)\n"
      ],
      "metadata": {
        "colab": {
          "base_uri": "https://localhost:8080/"
        },
        "id": "9iHnF6ay5V8H",
        "outputId": "61705353-e480-47f0-e0d3-41c2d5d4c58c"
      },
      "execution_count": 44,
      "outputs": [
        {
          "output_type": "stream",
          "name": "stdout",
          "text": [
            "   Employee_ID     Name Department   Salary Joining_Date  Experience (Years)\n",
            "0        101.0    Alice         HR      NaN   2020-06-15                 3.0\n",
            "1          NaN      Bob         IT  60000.0   2019-08-01                 4.0\n",
            "2        103.0  Charlie       None  55000.0         None                 NaN\n",
            "3        104.0    David  Marketing  52000.0   2018-07-20                 5.0\n",
            "4        105.0     None      Sales  58000.0   2022-03-05                 1.0\n",
            "   Employee_ID   Name Department   Salary Joining_Date  Experience (Years)\n",
            "3        104.0  David  Marketing  52000.0   2018-07-20                 5.0\n"
          ]
        }
      ]
    }
  ]
}